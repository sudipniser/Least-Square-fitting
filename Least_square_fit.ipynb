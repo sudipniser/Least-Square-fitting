{
    "cells": [
        {
            "cell_type": "code",
            "execution_count": 1,
            "source": [
                "def least_sqr_fit(file_name,x_name,y_name,title):\r\n",
                "    import pandas as pd\r\n",
                "    import numpy as np\r\n",
                "    import matplotlib.pyplot as plt\r\n",
                "    data=pd.DataFrame(pd.read_csv(str(file_name),delimiter='\\t'))\r\n",
                "    S_x=np.sum(data['x'])\r\n",
                "    S_y=np.sum(data['y'])\r\n",
                "    S_xx=np.sum(data['x']**2)\r\n",
                "    S_xy=np.sum(data['x']*data['y'])\r\n",
                "    N=data.last_valid_index()+1\r\n",
                "    delta=N*S_xx-S_x**2\r\n",
                "    m=(N*S_xy-S_x*S_y)/delta\r\n",
                "    c=(S_xx*S_y-S_x*S_xy)/delta\r\n",
                "    data['xy']=data['x']*data['y']\r\n",
                "    data['x^2']=data['x']**2\r\n",
                "    data['Delta y']=(data['y']-m*data['x']-c)**2\r\n",
                "    sigma_y=np.sqrt((1/(N-2))*np.sum(data['Delta y']))\r\n",
                "    sigma_m=sigma_y*np.sqrt(N/delta)\r\n",
                "    sigma_c=sigma_y*np.sqrt(S_xx/delta)\r\n",
                "    #print(N)\r\n",
                "    print('m='+str(m))\r\n",
                "    print('c='+str(c))\r\n",
                "    print('sigma_y='+str(sigma_y))\r\n",
                "    print('sigma_m='+str(sigma_m))\r\n",
                "    print('sigma_c='+str(sigma_c))\r\n",
                "    plt.scatter(np.array(data['x']),np.array(data['y']))\r\n",
                "    x_=np.linspace(data['x'].iloc[0],data['x'].iloc[-1],20)\r\n",
                "    y_=m*x_+c\r\n",
                "    plt.plot(x_,y_,'--k')\r\n",
                "    plt.xlabel(str(x_name))\r\n",
                "    plt.ylabel(str(y_name))\r\n",
                "    plt.title(str(title))\r\n",
                "    data.to_excel(str(file_name[:-4])+'.xlsx',engine='xlsxwriter')\r\n",
                "    plt.savefig(str(file_name[:-4])+'.pdf')\r\n",
                "    return(data)\r\n",
                "    "
            ],
            "outputs": [],
            "metadata": {}
        },
        {
            "cell_type": "code",
            "execution_count": null,
            "source": [],
            "outputs": [],
            "metadata": {}
        },
        {
            "cell_type": "code",
            "execution_count": 2,
            "source": [
                "'''\r\n",
                "import matplotlib.pyplot as plt\r\n",
                "import numpy as np\r\n",
                "import pandas as pd\r\n",
                "m=0.06057142857142978\r\n",
                "c=4.52295238095238\r\n",
                "\r\n",
                "plt.scatter(np.array(a['x']),np.array(a['y']),c='k',label='at $177^oC$')\r\n",
                "x_=np.linspace(0,a['x'].iloc[-1],20)\r\n",
                "y_=m*x_+c\r\n",
                "plt.plot(x_,y_,'--k')\r\n",
                "#e_name[:-4])+'.xlsx',engine='xlsxwriter')\r\n",
                "#plt.savefig(str(file_name[:-4])+'.pdf')\r\n",
                "m=0.03099999999999682\r\n",
                "c=4.636000000000021\r\n",
                "plt.scatter(np.array(b['x']),np.array(b['y']),c='r',label='at $190^oC$')\r\n",
                "x_=np.linspace(0,b['x'].iloc[-1],20)\r\n",
                "y_=m*x_+c\r\n",
                "plt.plot(x_,y_,'--r')\r\n",
                "plt.ylabel('$\\Delta E$ (in eV)')\r\n",
                "plt.xlabel('n')\r\n",
                "plt.title('$\\Delta E$ vs n for Hg gas at $177^oC$ and at $190^oC$')\r\n",
                "#e_name[:-4])+'.xlsx',engine='xlsxwriter')\r\n",
                "plt.plot([0.5,0.5],[4,5],'--b',label='n=0.5')\r\n",
                "plt.legend()\r\n",
                "plt.savefig(str('Hg at 177 and 190')+'.pdf')\r\n",
                "plt.show()\r\n",
                "'''"
            ],
            "outputs": [
                {
                    "output_type": "execute_result",
                    "data": {
                        "text/plain": [
                            "\"\\nimport matplotlib.pyplot as plt\\nimport numpy as np\\nimport pandas as pd\\nm=0.06057142857142978\\nc=4.52295238095238\\n\\nplt.scatter(np.array(a['x']),np.array(a['y']),c='k',label='at $177^oC$')\\nx_=np.linspace(0,a['x'].iloc[-1],20)\\ny_=m*x_+c\\nplt.plot(x_,y_,'--k')\\n#e_name[:-4])+'.xlsx',engine='xlsxwriter')\\n#plt.savefig(str(file_name[:-4])+'.pdf')\\nm=0.03099999999999682\\nc=4.636000000000021\\nplt.scatter(np.array(b['x']),np.array(b['y']),c='r',label='at $190^oC$')\\nx_=np.linspace(0,b['x'].iloc[-1],20)\\ny_=m*x_+c\\nplt.plot(x_,y_,'--r')\\nplt.ylabel('$\\\\Delta E$ (in eV)')\\nplt.xlabel('n')\\nplt.title('$\\\\Delta E$ vs n for Hg gas at $177^oC$ and at $190^oC$')\\n#e_name[:-4])+'.xlsx',engine='xlsxwriter')\\nplt.plot([0.5,0.5],[4,5],'--b',label='n=0.5')\\nplt.legend()\\nplt.savefig(str('Hg at 177 and 190')+'.pdf')\\nplt.show()\\n\""
                        ]
                    },
                    "metadata": {},
                    "execution_count": 2
                }
            ],
            "metadata": {}
        }
    ],
    "metadata": {
        "orig_nbformat": 4,
        "language_info": {
            "name": "python",
            "version": "3.8.3",
            "mimetype": "text/x-python",
            "codemirror_mode": {
                "name": "ipython",
                "version": 3
            },
            "pygments_lexer": "ipython3",
            "nbconvert_exporter": "python",
            "file_extension": ".py"
        },
        "kernelspec": {
            "name": "python3",
            "display_name": "Python 3.8.3 64-bit"
        },
        "interpreter": {
            "hash": "2db524e06e9f5f4ffedc911c917cb75e12dbc923643829bf417064a77eb14d37"
        }
    },
    "nbformat": 4,
    "nbformat_minor": 2
}